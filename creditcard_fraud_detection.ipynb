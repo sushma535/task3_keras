{
 "cells": [
  {
   "cell_type": "code",
   "execution_count": 2,
   "id": "6ab2018a",
   "metadata": {},
   "outputs": [],
   "source": [
    "import csv\n",
    "import pandas as pd\n",
    "from matplotlib import pyplot as plt\n",
    "import numpy as np"
   ]
  },
  {
   "cell_type": "code",
   "execution_count": 3,
   "id": "8293a30b",
   "metadata": {},
   "outputs": [],
   "source": [
    "import os\n",
    "os.chdir('C:/Users/raja/Documents')"
   ]
  },
  {
   "cell_type": "code",
   "execution_count": 4,
   "id": "f5981d27",
   "metadata": {},
   "outputs": [
    {
     "data": {
      "text/html": [
       "<div>\n",
       "<style scoped>\n",
       "    .dataframe tbody tr th:only-of-type {\n",
       "        vertical-align: middle;\n",
       "    }\n",
       "\n",
       "    .dataframe tbody tr th {\n",
       "        vertical-align: top;\n",
       "    }\n",
       "\n",
       "    .dataframe thead th {\n",
       "        text-align: right;\n",
       "    }\n",
       "</style>\n",
       "<table border=\"1\" class=\"dataframe\">\n",
       "  <thead>\n",
       "    <tr style=\"text-align: right;\">\n",
       "      <th></th>\n",
       "      <th>Time</th>\n",
       "      <th>V1</th>\n",
       "      <th>V2</th>\n",
       "      <th>V3</th>\n",
       "      <th>V4</th>\n",
       "      <th>V5</th>\n",
       "      <th>V6</th>\n",
       "      <th>V7</th>\n",
       "      <th>V8</th>\n",
       "      <th>V9</th>\n",
       "      <th>...</th>\n",
       "      <th>V21</th>\n",
       "      <th>V22</th>\n",
       "      <th>V23</th>\n",
       "      <th>V24</th>\n",
       "      <th>V25</th>\n",
       "      <th>V26</th>\n",
       "      <th>V27</th>\n",
       "      <th>V28</th>\n",
       "      <th>Amount</th>\n",
       "      <th>Class</th>\n",
       "    </tr>\n",
       "  </thead>\n",
       "  <tbody>\n",
       "    <tr>\n",
       "      <th>257720</th>\n",
       "      <td>158313.0</td>\n",
       "      <td>2.030381</td>\n",
       "      <td>-0.235965</td>\n",
       "      <td>-1.541734</td>\n",
       "      <td>-0.006188</td>\n",
       "      <td>0.629463</td>\n",
       "      <td>0.351813</td>\n",
       "      <td>-0.100150</td>\n",
       "      <td>0.002545</td>\n",
       "      <td>0.611721</td>\n",
       "      <td>...</td>\n",
       "      <td>0.066421</td>\n",
       "      <td>0.332036</td>\n",
       "      <td>-0.007687</td>\n",
       "      <td>-0.323679</td>\n",
       "      <td>0.202100</td>\n",
       "      <td>-0.265369</td>\n",
       "      <td>-0.005841</td>\n",
       "      <td>-0.059804</td>\n",
       "      <td>24.29</td>\n",
       "      <td>0</td>\n",
       "    </tr>\n",
       "    <tr>\n",
       "      <th>119028</th>\n",
       "      <td>75302.0</td>\n",
       "      <td>-1.176184</td>\n",
       "      <td>1.090122</td>\n",
       "      <td>0.755149</td>\n",
       "      <td>0.918193</td>\n",
       "      <td>0.175064</td>\n",
       "      <td>-0.867734</td>\n",
       "      <td>0.729134</td>\n",
       "      <td>-0.431768</td>\n",
       "      <td>-0.092617</td>\n",
       "      <td>...</td>\n",
       "      <td>0.115533</td>\n",
       "      <td>0.524623</td>\n",
       "      <td>0.022526</td>\n",
       "      <td>0.418536</td>\n",
       "      <td>-0.143252</td>\n",
       "      <td>-0.388129</td>\n",
       "      <td>-0.447202</td>\n",
       "      <td>0.303582</td>\n",
       "      <td>21.50</td>\n",
       "      <td>0</td>\n",
       "    </tr>\n",
       "    <tr>\n",
       "      <th>103512</th>\n",
       "      <td>68691.0</td>\n",
       "      <td>1.054088</td>\n",
       "      <td>-0.698552</td>\n",
       "      <td>1.023700</td>\n",
       "      <td>0.326059</td>\n",
       "      <td>-1.380431</td>\n",
       "      <td>-0.381728</td>\n",
       "      <td>-0.624121</td>\n",
       "      <td>0.100041</td>\n",
       "      <td>1.373616</td>\n",
       "      <td>...</td>\n",
       "      <td>-0.198504</td>\n",
       "      <td>-0.552381</td>\n",
       "      <td>0.022365</td>\n",
       "      <td>0.438922</td>\n",
       "      <td>0.067625</td>\n",
       "      <td>0.937732</td>\n",
       "      <td>-0.056733</td>\n",
       "      <td>0.025991</td>\n",
       "      <td>89.72</td>\n",
       "      <td>0</td>\n",
       "    </tr>\n",
       "    <tr>\n",
       "      <th>87154</th>\n",
       "      <td>61559.0</td>\n",
       "      <td>1.245674</td>\n",
       "      <td>0.166975</td>\n",
       "      <td>0.488306</td>\n",
       "      <td>0.635322</td>\n",
       "      <td>-0.562777</td>\n",
       "      <td>-1.011073</td>\n",
       "      <td>0.014953</td>\n",
       "      <td>-0.160211</td>\n",
       "      <td>0.170362</td>\n",
       "      <td>...</td>\n",
       "      <td>-0.262581</td>\n",
       "      <td>-0.816264</td>\n",
       "      <td>0.140304</td>\n",
       "      <td>0.357827</td>\n",
       "      <td>0.186423</td>\n",
       "      <td>0.096544</td>\n",
       "      <td>-0.035866</td>\n",
       "      <td>0.018495</td>\n",
       "      <td>8.99</td>\n",
       "      <td>0</td>\n",
       "    </tr>\n",
       "    <tr>\n",
       "      <th>85756</th>\n",
       "      <td>60928.0</td>\n",
       "      <td>0.956456</td>\n",
       "      <td>-1.228496</td>\n",
       "      <td>-0.057599</td>\n",
       "      <td>-0.376222</td>\n",
       "      <td>-1.316283</td>\n",
       "      <td>-1.084451</td>\n",
       "      <td>-0.081871</td>\n",
       "      <td>-0.287151</td>\n",
       "      <td>-0.799439</td>\n",
       "      <td>...</td>\n",
       "      <td>-0.259111</td>\n",
       "      <td>-0.838607</td>\n",
       "      <td>-0.146008</td>\n",
       "      <td>0.410292</td>\n",
       "      <td>0.153761</td>\n",
       "      <td>1.018919</td>\n",
       "      <td>-0.116562</td>\n",
       "      <td>0.042841</td>\n",
       "      <td>240.00</td>\n",
       "      <td>0</td>\n",
       "    </tr>\n",
       "  </tbody>\n",
       "</table>\n",
       "<p>5 rows × 31 columns</p>\n",
       "</div>"
      ],
      "text/plain": [
       "            Time        V1        V2        V3        V4        V5        V6  \\\n",
       "257720  158313.0  2.030381 -0.235965 -1.541734 -0.006188  0.629463  0.351813   \n",
       "119028   75302.0 -1.176184  1.090122  0.755149  0.918193  0.175064 -0.867734   \n",
       "103512   68691.0  1.054088 -0.698552  1.023700  0.326059 -1.380431 -0.381728   \n",
       "87154    61559.0  1.245674  0.166975  0.488306  0.635322 -0.562777 -1.011073   \n",
       "85756    60928.0  0.956456 -1.228496 -0.057599 -0.376222 -1.316283 -1.084451   \n",
       "\n",
       "              V7        V8        V9  ...       V21       V22       V23  \\\n",
       "257720 -0.100150  0.002545  0.611721  ...  0.066421  0.332036 -0.007687   \n",
       "119028  0.729134 -0.431768 -0.092617  ...  0.115533  0.524623  0.022526   \n",
       "103512 -0.624121  0.100041  1.373616  ... -0.198504 -0.552381  0.022365   \n",
       "87154   0.014953 -0.160211  0.170362  ... -0.262581 -0.816264  0.140304   \n",
       "85756  -0.081871 -0.287151 -0.799439  ... -0.259111 -0.838607 -0.146008   \n",
       "\n",
       "             V24       V25       V26       V27       V28  Amount  Class  \n",
       "257720 -0.323679  0.202100 -0.265369 -0.005841 -0.059804   24.29      0  \n",
       "119028  0.418536 -0.143252 -0.388129 -0.447202  0.303582   21.50      0  \n",
       "103512  0.438922  0.067625  0.937732 -0.056733  0.025991   89.72      0  \n",
       "87154   0.357827  0.186423  0.096544 -0.035866  0.018495    8.99      0  \n",
       "85756   0.410292  0.153761  1.018919 -0.116562  0.042841  240.00      0  \n",
       "\n",
       "[5 rows x 31 columns]"
      ]
     },
     "execution_count": 4,
     "metadata": {},
     "output_type": "execute_result"
    }
   ],
   "source": [
    "df = pd.read_csv(\"creditcard.csv\")\n",
    "df.sample(5)"
   ]
  },
  {
   "cell_type": "code",
   "execution_count": 5,
   "id": "85ba8433",
   "metadata": {},
   "outputs": [
    {
     "name": "stdout",
     "output_type": "stream",
     "text": [
      "HEADER: \"Time\",\"V1\",\"V2\",\"V3\",\"V4\",\"V5\",\"V6\",\"V7\",\"V8\",\"V9\",\"V10\",\"V11\",\"V12\",\"V13\",\"V14\",\"V15\",\"V16\",\"V17\",\"V18\",\"V19\",\"V20\",\"V21\",\"V22\",\"V23\",\"V24\",\"V25\",\"V26\",\"V27\",\"V28\",\"Amount\",\"Class\"\n",
      "EXAMPLE FEATURES: [0.0, -1.3598071336738, -0.0727811733098497, 2.53634673796914, 1.37815522427443, -0.338320769942518, 0.462387777762292, 0.239598554061257, 0.0986979012610507, 0.363786969611213, 0.0907941719789316, -0.551599533260813, -0.617800855762348, -0.991389847235408, -0.311169353699879, 1.46817697209427, -0.470400525259478, 0.207971241929242, 0.0257905801985591, 0.403992960255733, 0.251412098239705, -0.018306777944153, 0.277837575558899, -0.110473910188767, 0.0669280749146731, 0.128539358273528, -0.189114843888824, 0.133558376740387, -0.0210530534538215, 149.62]\n",
      "features.shape: (284807, 30)\n",
      "targets.shape: (284807, 1)\n"
     ]
    }
   ],
   "source": [
    "all_features = []\n",
    "all_targets = []\n",
    "with open(\"creditcard.csv\") as f:\n",
    "    for i, line in enumerate(f):\n",
    "        if i == 0:\n",
    "            print(\"HEADER:\", line.strip())\n",
    "            continue  # Skip header\n",
    "        fields = line.strip().split(\",\")\n",
    "        all_features.append([float(v.replace('\"', \"\")) for v in fields[:-1]])\n",
    "        all_targets.append([int(fields[-1].replace('\"', \"\"))])\n",
    "        if i == 1:\n",
    "            print(\"EXAMPLE FEATURES:\", all_features[-1])\n",
    "\n",
    "features = np.array(all_features, dtype=\"float32\")\n",
    "targets = np.array(all_targets, dtype=\"uint8\")\n",
    "print(\"features.shape:\", features.shape)\n",
    "print(\"targets.shape:\", targets.shape)"
   ]
  },
  {
   "cell_type": "code",
   "execution_count": 6,
   "id": "59c02e59",
   "metadata": {},
   "outputs": [
    {
     "name": "stdout",
     "output_type": "stream",
     "text": [
      "Number of training samples: 227846\n",
      "Number of validation samples: 56961\n"
     ]
    }
   ],
   "source": [
    "num_val_samples = int(len(features) * 0.2)\n",
    "train_features = features[:-num_val_samples]\n",
    "train_targets = targets[:-num_val_samples]\n",
    "val_features = features[-num_val_samples:]\n",
    "val_targets = targets[-num_val_samples:]\n",
    "\n",
    "print(\"Number of training samples:\", len(train_features))\n",
    "print(\"Number of validation samples:\", len(val_features))"
   ]
  },
  {
   "cell_type": "code",
   "execution_count": 7,
   "id": "53621fc6",
   "metadata": {},
   "outputs": [
    {
     "name": "stdout",
     "output_type": "stream",
     "text": [
      "Number of positive samples in training data: 417 (0.18% of total)\n"
     ]
    }
   ],
   "source": [
    "counts = np.bincount(train_targets[:, 0])\n",
    "print(\n",
    "    \"Number of positive samples in training data: {} ({:.2f}% of total)\".format(\n",
    "        counts[1], 100 * float(counts[1]) / len(train_targets)\n",
    "    )\n",
    ")\n",
    "\n",
    "weight_for_0 = 1.0 / counts[0]\n",
    "weight_for_1 = 1.0 / counts[1]"
   ]
  },
  {
   "cell_type": "code",
   "execution_count": 8,
   "id": "9b8fe8b5",
   "metadata": {},
   "outputs": [],
   "source": [
    "mean = np.mean(train_features, axis=0)\n",
    "train_features -= mean\n",
    "val_features -= mean\n",
    "std = np.std(train_features, axis=0)\n",
    "train_features /= std\n",
    "val_features /= std"
   ]
  },
  {
   "cell_type": "code",
   "execution_count": 9,
   "id": "0b5138c2",
   "metadata": {},
   "outputs": [
    {
     "name": "stdout",
     "output_type": "stream",
     "text": [
      "Model: \"sequential\"\n",
      "_________________________________________________________________\n",
      "Layer (type)                 Output Shape              Param #   \n",
      "=================================================================\n",
      "dense (Dense)                (None, 256)               7936      \n",
      "_________________________________________________________________\n",
      "dense_1 (Dense)              (None, 256)               65792     \n",
      "_________________________________________________________________\n",
      "dropout (Dropout)            (None, 256)               0         \n",
      "_________________________________________________________________\n",
      "dense_2 (Dense)              (None, 256)               65792     \n",
      "_________________________________________________________________\n",
      "dropout_1 (Dropout)          (None, 256)               0         \n",
      "_________________________________________________________________\n",
      "dense_3 (Dense)              (None, 1)                 257       \n",
      "=================================================================\n",
      "Total params: 139,777\n",
      "Trainable params: 139,777\n",
      "Non-trainable params: 0\n",
      "_________________________________________________________________\n"
     ]
    }
   ],
   "source": [
    "from tensorflow import keras\n",
    "\n",
    "model = keras.Sequential(\n",
    "    [\n",
    "        keras.layers.Dense(\n",
    "            256, activation=\"relu\", input_shape=(train_features.shape[-1],)\n",
    "        ),\n",
    "        keras.layers.Dense(256, activation=\"relu\"),\n",
    "        keras.layers.Dropout(0.3),\n",
    "        keras.layers.Dense(256, activation=\"relu\"),\n",
    "        keras.layers.Dropout(0.3),\n",
    "        keras.layers.Dense(1, activation=\"sigmoid\"),\n",
    "    ]\n",
    ")\n",
    "model.summary()"
   ]
  },
  {
   "cell_type": "code",
   "execution_count": 11,
   "id": "cf79cb54",
   "metadata": {},
   "outputs": [
    {
     "name": "stdout",
     "output_type": "stream",
     "text": [
      "Epoch 1/5\n",
      "112/112 - 23s - loss: 8.8661e-07 - fn: 26.0000 - fp: 7144.0000 - tn: 220285.0000 - tp: 391.0000 - precision: 0.0519 - recall: 0.9376 - val_loss: 0.0460 - val_fn: 7.0000 - val_fp: 935.0000 - val_tn: 55951.0000 - val_tp: 68.0000 - val_precision: 0.0678 - val_recall: 0.9067\n",
      "Epoch 2/5\n",
      "112/112 - 19s - loss: 5.9535e-07 - fn: 14.0000 - fp: 5951.0000 - tn: 221478.0000 - tp: 403.0000 - precision: 0.0634 - recall: 0.9664 - val_loss: 0.0236 - val_fn: 8.0000 - val_fp: 527.0000 - val_tn: 56359.0000 - val_tp: 67.0000 - val_precision: 0.1128 - val_recall: 0.8933\n",
      "Epoch 3/5\n",
      "112/112 - 19s - loss: 5.2796e-07 - fn: 9.0000 - fp: 6487.0000 - tn: 220942.0000 - tp: 408.0000 - precision: 0.0592 - recall: 0.9784 - val_loss: 0.0505 - val_fn: 7.0000 - val_fp: 1335.0000 - val_tn: 55551.0000 - val_tp: 68.0000 - val_precision: 0.0485 - val_recall: 0.9067\n",
      "Epoch 4/5\n",
      "112/112 - 20s - loss: 4.5622e-07 - fn: 7.0000 - fp: 5133.0000 - tn: 222296.0000 - tp: 410.0000 - precision: 0.0740 - recall: 0.9832 - val_loss: 0.0771 - val_fn: 5.0000 - val_fp: 2456.0000 - val_tn: 54430.0000 - val_tp: 70.0000 - val_precision: 0.0277 - val_recall: 0.9333\n",
      "Epoch 5/5\n",
      "112/112 - 19s - loss: 5.1857e-07 - fn: 7.0000 - fp: 5734.0000 - tn: 221695.0000 - tp: 410.0000 - precision: 0.0667 - recall: 0.9832 - val_loss: 0.0395 - val_fn: 8.0000 - val_fp: 1141.0000 - val_tn: 55745.0000 - val_tp: 67.0000 - val_precision: 0.0555 - val_recall: 0.8933\n"
     ]
    },
    {
     "data": {
      "text/plain": [
       "<keras.callbacks.History at 0x31ebd15970>"
      ]
     },
     "execution_count": 11,
     "metadata": {},
     "output_type": "execute_result"
    }
   ],
   "source": [
    "metrics = [\n",
    "    keras.metrics.FalseNegatives(name=\"fn\"),\n",
    "    keras.metrics.FalsePositives(name=\"fp\"),\n",
    "    keras.metrics.TrueNegatives(name=\"tn\"),\n",
    "    keras.metrics.TruePositives(name=\"tp\"),\n",
    "    keras.metrics.Precision(name=\"precision\"),\n",
    "    keras.metrics.Recall(name=\"recall\"),\n",
    "]\n",
    "\n",
    "model.compile(\n",
    "    optimizer=keras.optimizers.Adam(1e-2), loss=\"binary_crossentropy\", metrics=metrics\n",
    ")\n",
    "\n",
    "callbacks = [keras.callbacks.ModelCheckpoint(\"fraud_model_at_epoch_{epoch}.h5\")]\n",
    "class_weight = {0: weight_for_0, 1: weight_for_1}\n",
    "\n",
    "model.fit(\n",
    "    train_features,\n",
    "    train_targets,\n",
    "    batch_size=2048,\n",
    "    epochs=5,\n",
    "    verbose=2,\n",
    "    callbacks=callbacks,\n",
    "    validation_data=(val_features, val_targets),\n",
    "    class_weight=class_weight,\n",
    ")"
   ]
  }
 ],
 "metadata": {
  "kernelspec": {
   "display_name": "Python 3 (ipykernel)",
   "language": "python",
   "name": "python3"
  },
  "language_info": {
   "codemirror_mode": {
    "name": "ipython",
    "version": 3
   },
   "file_extension": ".py",
   "mimetype": "text/x-python",
   "name": "python",
   "nbconvert_exporter": "python",
   "pygments_lexer": "ipython3",
   "version": "3.8.1"
  }
 },
 "nbformat": 4,
 "nbformat_minor": 5
}
